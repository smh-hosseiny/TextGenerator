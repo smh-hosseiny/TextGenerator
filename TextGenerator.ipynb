{
  "nbformat": 4,
  "nbformat_minor": 0,
  "metadata": {
    "colab": {
      "name": "Q2.ipynb",
      "provenance": [],
      "collapsed_sections": []
    },
    "kernelspec": {
      "name": "python3",
      "display_name": "Python 3"
    },
    "accelerator": "GPU"
  },
  "cells": [
    {
      "cell_type": "code",
      "metadata": {
        "id": "e2se1uU9SWSG"
      },
      "source": [
        "import numpy as np\r\n",
        "import sys\r\n",
        "import time\r\n",
        "import tensorflow as tf\r\n",
        "from keras.models import Sequential\r\n",
        "from keras.layers import Dense\r\n",
        "from keras.layers import Dropout\r\n",
        "from keras.layers import LSTM, GRU, SimpleRNN\r\n",
        "from keras.callbacks import ModelCheckpoint\r\n",
        "from keras.utils import np_utils\r\n",
        "import matplotlib.pyplot as plt\r\n"
      ],
      "execution_count": 1,
      "outputs": []
    },
    {
      "cell_type": "code",
      "metadata": {
        "id": "pWoylD2TS1Xo"
      },
      "source": [
        "path_to_file = tf.keras.utils.get_file('shakespeare.txt', 'https://storage.googleapis.com/download.tensorflow.org/data/shakespeare.txt')\r\n",
        "text = open(path_to_file, 'rb').read().decode(encoding='utf-8')\r\n",
        "text = text.lower()"
      ],
      "execution_count": 2,
      "outputs": []
    },
    {
      "cell_type": "code",
      "metadata": {
        "id": "U614HQ2KOr39"
      },
      "source": [
        "class TextGenerator():\r\n",
        "    def __init__(self, text, seq_length = 100, shifting = 3):\r\n",
        "        self.seq_length = seq_length\r\n",
        "        self.shifting = shifting\r\n",
        "\r\n",
        "        self.numeric_text = self.encode(text)\r\n",
        "        self.X, self.Y = self.vectorize()\r\n",
        "        self.X = np_utils.to_categorical(self.X)\r\n",
        "        self.Y = np_utils.to_categorical(self.Y)\r\n",
        "        self.model = None\r\n",
        "\r\n",
        "\r\n",
        "    def encode(self, text):\r\n",
        "        chars = sorted(list(set(text)))\r\n",
        "        self.char_to_int = dict((c, i) for i, c in enumerate(chars))\r\n",
        "        self.int_to_char = np.array(chars)\r\n",
        "        self.n_chars = len(text)\r\n",
        "        self.n_vocab = len(chars)\r\n",
        "        self.mapping = lambda x: self.char_to_int[x]\r\n",
        "        self.inverse_mapping = lambda x: self.int_to_char[x]\r\n",
        "        numeric_text = np.asarray(list(map(self.mapping, text)))\r\n",
        "        return numeric_text\r\n",
        "    \r\n",
        "    def vectorize(self):\r\n",
        "        X = []\r\n",
        "        Y = []\r\n",
        "        for i in range(0, self.n_chars - self.seq_length, self.shifting):\r\n",
        "            X.append(self.numeric_text[i:i + self.seq_length])\r\n",
        "            Y.append(self.numeric_text[i + self.seq_length])\r\n",
        "        self.n_patterns = len(X)\r\n",
        "        X = np.reshape(X, (self.n_patterns, self.seq_length))\r\n",
        "        return X,Y\r\n",
        "\r\n",
        "\r\n",
        "    def build_model(self, rnn_size):\r\n",
        "        model = Sequential()\r\n",
        "        model.add(self.recurrent_layer(rnn_size, input_shape=(self.seq_length, self.n_vocab), return_sequences=True))\r\n",
        "        model.add(self.recurrent_layer(rnn_size))\r\n",
        "        model.add(Dropout(0.2))\r\n",
        "        model.add(Dense(self.Y.shape[-1], activation='softmax'))\r\n",
        "        model.compile(loss=self.lossfunc, optimizer=self.optimizer, metrics = 'accuracy')\r\n",
        "        return model\r\n",
        "        # model.summary()\r\n",
        "\r\n",
        "\r\n",
        "\r\n",
        "    def train(self, recurrent_layer, optimizer, lossfunc, n_units, batch_size, n_epochs):\r\n",
        "        t0 = time.time()\r\n",
        "        if recurrent_layer == 'GRU':\r\n",
        "            self.recurrent_layer = GRU\r\n",
        "        elif recurrent_layer == 'LSTM':\r\n",
        "            self.recurrent_layer = LSTM\r\n",
        "        elif recurrent_layer == 'RNN':\r\n",
        "            self.recurrent_layer = SimpleRNN\r\n",
        "        else:\r\n",
        "            raise ValueError('Unknown recurrent layer')\r\n",
        "\r\n",
        "        self.optimizer = optimizer\r\n",
        "        self.lossfunc = lossfunc\r\n",
        "        self.model = self.build_model(n_units)\r\n",
        "        trained_model = self.model.fit(self.X, self.Y, epochs=n_epochs, batch_size=batch_size,  validation_split=0.2)\r\n",
        "        self.plot(trained_model)\r\n",
        "        t = time.time()\r\n",
        "        print(f'training time: {round(t - t0, 2)}s')\r\n",
        "\r\n",
        "\r\n",
        "\r\n",
        "\r\n",
        "    def sample(self, pred):\r\n",
        "        preds = pred.ravel()\r\n",
        "        preds = np.asarray(preds).astype('float64')\r\n",
        "        preds = np.log(preds) / self.temperature\r\n",
        "        exp_preds = np.exp(preds)\r\n",
        "        preds = exp_preds / np.sum(exp_preds)\r\n",
        "        probas = np.random.multinomial(1, preds, 1)\r\n",
        "        return np.argmax(probas)\r\n",
        "        # return np.random.choice(len(preds), p=preds)\r\n",
        "\r\n",
        "    def plot(self,TrainedModel):\r\n",
        "        history = TrainedModel\r\n",
        "        plt.plot(history.history['loss'])\r\n",
        "        plt.plot(history.history['val_loss'])\r\n",
        "        plt.title('model loss')\r\n",
        "        plt.ylabel('Loss')\r\n",
        "        plt.xlabel('epoch')\r\n",
        "        plt.legend(['train', 'validation'], loc='upper left')\r\n",
        "        plt.grid()\r\n",
        "        plt.show()\r\n",
        "\r\n",
        "\r\n",
        "    def generate_text(self, n_pred, temperature):\r\n",
        "        self.temperature = temperature\r\n",
        "        len = self.n_patterns - self.seq_length -1\r\n",
        "        start = np.random.randint(0, len)\r\n",
        "        sentence = self.X[start]\r\n",
        "        seed = np.argmax(sentence, axis=1)\r\n",
        "        seed = ''.join([self.int_to_char[value][0] for value in seed])\r\n",
        "        generated = ''\r\n",
        "        print(f'seed:\\n{seed}')\r\n",
        "        print('\\nGenerated Text:')\r\n",
        "        for i in range(n_pred):\r\n",
        "            prediction = self.model.predict(sentence.reshape(1, self.seq_length, self.n_vocab))\r\n",
        "            index = self.sample(prediction)\r\n",
        "            next_char = self.int_to_char[index]\r\n",
        "            one_hot = np.zeros([self.n_vocab, 1])\r\n",
        "            one_hot[index] = 1\r\n",
        "            sentence = np.concatenate([sentence[1:], one_hot.T], axis=0)\r\n",
        "            generated += next_char\r\n",
        "            sys.stdout.write(next_char)\r\n",
        "            sys.stdout.flush()\r\n",
        "            self.generated = generated\r\n",
        "        return generated\r\n",
        "\r\n",
        "    def remove_model(self):\r\n",
        "        if self.model:\r\n",
        "            del self.model\r\n",
        "\r\n",
        "     \r\n"
      ],
      "execution_count": 3,
      "outputs": []
    },
    {
      "cell_type": "markdown",
      "metadata": {
        "id": "CcW3YqZDZ9Ut"
      },
      "source": [
        "# **3**"
      ]
    },
    {
      "cell_type": "code",
      "metadata": {
        "id": "1tlvFA4ifOq-"
      },
      "source": [
        "def vectorize(numeric_text,  n_chars, seq_length, shifting):\r\n",
        "    X = []\r\n",
        "    Y = []\r\n",
        "    for i in range(0, n_chars - seq_length, shifting):\r\n",
        "        X.append(numeric_text[i:i + seq_length])\r\n",
        "        Y.append(numeric_text[i + seq_length])\r\n",
        "    n_patterns = len(X)\r\n",
        "    X = np.reshape(X, (n_patterns, seq_length))\r\n",
        "    Y = np.asarray(Y)\r\n",
        "    return X,Y\r\n",
        "\r\n",
        "chars = sorted(list(set(text)))\r\n",
        "char_to_int = dict((c, i) for i, c in enumerate(chars))\r\n",
        "int_to_char = np.array(chars)\r\n",
        "n_chars = len(text)\r\n",
        "n_vocab = len(chars)\r\n",
        "mapping = lambda x: char_to_int[x]\r\n",
        "inverse_mapping = lambda x: int_to_char[x]\r\n",
        "numeric_text = np.asarray(list(map(mapping, text)))\r\n"
      ],
      "execution_count": null,
      "outputs": []
    },
    {
      "cell_type": "code",
      "metadata": {
        "colab": {
          "base_uri": "https://localhost:8080/"
        },
        "id": "ZWKVMCyRcE98",
        "outputId": "c48c9b8b-66ae-4a29-e5d0-c41ae8a79628"
      },
      "source": [
        "seq_length = 100\r\n",
        "shifting = 3\r\n",
        "X,Y = vectorize(numeric_text,  n_chars, seq_length, shifting)\r\n",
        "\r\n",
        "idx = np.random.randint(X.shape[0])\r\n",
        "seed = X[idx]\r\n",
        "target = int_to_char[Y[idx]]\r\n",
        "input = ''.join([int_to_char[value][0] for value in seed])\r\n",
        "print(f'input:\\n{input}\\ntarget: {target}')\r\n",
        "\r\n",
        "seed = X[idx+1]\r\n",
        "target = int_to_char[Y[idx+1]]\r\n",
        "input = ''.join([int_to_char[value][0] for value in seed])\r\n",
        "print(f'\\nnext input:\\n{input}\\ntarget: {target}')"
      ],
      "execution_count": null,
      "outputs": [
        {
          "output_type": "stream",
          "text": [
            "input:\n",
            "herd's homely curds,\n",
            "his cold thin drink out of his leather bottle.\n",
            "his wonted sleep under a fresh t\n",
            "target: r\n",
            "\n",
            "next input:\n",
            "d's homely curds,\n",
            "his cold thin drink out of his leather bottle.\n",
            "his wonted sleep under a fresh tree\n",
            "target: '\n"
          ],
          "name": "stdout"
        }
      ]
    },
    {
      "cell_type": "code",
      "metadata": {
        "colab": {
          "base_uri": "https://localhost:8080/"
        },
        "id": "n88flCv8Z8rb",
        "outputId": "e674af39-61b7-4152-cc71-597c1dd7ef2d"
      },
      "source": [
        "seq_length = 30\r\n",
        "shifting = 1\r\n",
        "X,Y = vectorize(numeric_text,  n_chars, seq_length, shifting)\r\n",
        "\r\n",
        "idx = np.random.randint(X.shape[0])\r\n",
        "seed = X[idx]\r\n",
        "target = int_to_char[Y[idx]]\r\n",
        "input = ''.join([int_to_char[value][0] for value in seed])\r\n",
        "print(f'input:\\n{input}\\ntarget: {target}')\r\n",
        "\r\n",
        "seed = X[idx+1]\r\n",
        "target = int_to_char[Y[idx+1]]\r\n",
        "input = ''.join([int_to_char[value][0] for value in seed])\r\n",
        "print(f'\\nnext input:\\n{input}\\ntarget: {target}')"
      ],
      "execution_count": null,
      "outputs": [
        {
          "output_type": "stream",
          "text": [
            "input:\n",
            "fs manifold and sorceries terr\n",
            "target: i\n",
            "\n",
            "next input:\n",
            "s manifold and sorceries terri\n",
            "target: b\n"
          ],
          "name": "stdout"
        }
      ]
    },
    {
      "cell_type": "code",
      "metadata": {
        "colab": {
          "base_uri": "https://localhost:8080/"
        },
        "id": "3dTke1EGfXbU",
        "outputId": "0e25f611-a949-43f3-eab1-87330b022a0b"
      },
      "source": [
        "seq_length = 500\r\n",
        "shifting = 10\r\n",
        "X,Y = vectorize(numeric_text,  n_chars, seq_length, shifting)\r\n",
        "\r\n",
        "idx = np.random.randint(X.shape[0])\r\n",
        "seed = X[idx]\r\n",
        "target = int_to_char[Y[idx]]\r\n",
        "input = ''.join([int_to_char[value][0] for value in seed])\r\n",
        "print(f'input:\\n{input}\\ntarget: {target}')\r\n",
        "\r\n",
        "seed = X[idx+1]\r\n",
        "target = int_to_char[Y[idx+1]]\r\n",
        "input = ''.join([int_to_char[value][0] for value in seed])\r\n",
        "print(f'\\nnext input:\\n{input}\\ntarget: {target}')"
      ],
      "execution_count": null,
      "outputs": [
        {
          "output_type": "stream",
          "text": [
            "input:\n",
            " we are shent for keeping your\n",
            "greatness back?\n",
            "\n",
            "second senator:\n",
            "what cause, do you think, i have to swoon?\n",
            "\n",
            "menenius:\n",
            "i neither care for the world nor your general: for\n",
            "such things as you, i can scarce think there's any,\n",
            "ye're so slight. he that hath a will to die by\n",
            "himself fears it not from another: let your general\n",
            "do his worst. for you, be that you are, long; and\n",
            "your misery increase with your age! i say to you,\n",
            "as i was said to, away!\n",
            "\n",
            "first senator:\n",
            "a noble fellow, i warrant him.\n",
            "\n",
            "second s\n",
            "target: e\n",
            "\n",
            "next input:\n",
            "ent for keeping your\n",
            "greatness back?\n",
            "\n",
            "second senator:\n",
            "what cause, do you think, i have to swoon?\n",
            "\n",
            "menenius:\n",
            "i neither care for the world nor your general: for\n",
            "such things as you, i can scarce think there's any,\n",
            "ye're so slight. he that hath a will to die by\n",
            "himself fears it not from another: let your general\n",
            "do his worst. for you, be that you are, long; and\n",
            "your misery increase with your age! i say to you,\n",
            "as i was said to, away!\n",
            "\n",
            "first senator:\n",
            "a noble fellow, i warrant him.\n",
            "\n",
            "second senator:\n",
            "th\n",
            "target: e\n"
          ],
          "name": "stdout"
        }
      ]
    },
    {
      "cell_type": "markdown",
      "metadata": {
        "id": "4u-4unqospbi"
      },
      "source": [
        "# **7**"
      ]
    },
    {
      "cell_type": "code",
      "metadata": {
        "id": "mYLgZd-Xtpz1"
      },
      "source": [
        "text_generator = TextGenerator(text)"
      ],
      "execution_count": 4,
      "outputs": []
    },
    {
      "cell_type": "code",
      "metadata": {
        "id": "c6veaXOEZyxS",
        "colab": {
          "base_uri": "https://localhost:8080/",
          "height": 846
        },
        "outputId": "fdb99e46-e92e-404b-a659-dc237f848af7"
      },
      "source": [
        "layer = 'LSTM'\r\n",
        "optimizer = 'rmsprop'\r\n",
        "lossfunc = 'categorical_crossentropy'\r\n",
        "text_generator.train(layer, optimizer, lossfunc, n_units = 128, batch_size = 256, n_epochs = 15)"
      ],
      "execution_count": null,
      "outputs": [
        {
          "output_type": "stream",
          "text": [
            "Epoch 1/15\n",
            "1162/1162 [==============================] - 40s 27ms/step - loss: 2.7595 - accuracy: 0.2309 - val_loss: 2.1362 - val_accuracy: 0.3720\n",
            "Epoch 2/15\n",
            "1162/1162 [==============================] - 31s 26ms/step - loss: 2.0569 - accuracy: 0.3991 - val_loss: 1.9541 - val_accuracy: 0.4125\n",
            "Epoch 3/15\n",
            "1162/1162 [==============================] - 31s 27ms/step - loss: 1.8706 - accuracy: 0.4439 - val_loss: 1.8528 - val_accuracy: 0.4416\n",
            "Epoch 4/15\n",
            "1162/1162 [==============================] - 31s 27ms/step - loss: 1.7566 - accuracy: 0.4726 - val_loss: 1.8020 - val_accuracy: 0.4576\n",
            "Epoch 5/15\n",
            "1162/1162 [==============================] - 31s 27ms/step - loss: 1.6798 - accuracy: 0.4937 - val_loss: 1.7694 - val_accuracy: 0.4704\n",
            "Epoch 6/15\n",
            "1162/1162 [==============================] - 31s 27ms/step - loss: 1.6229 - accuracy: 0.5080 - val_loss: 1.7354 - val_accuracy: 0.4764\n",
            "Epoch 7/15\n",
            "1162/1162 [==============================] - 32s 27ms/step - loss: 1.5695 - accuracy: 0.5213 - val_loss: 1.7103 - val_accuracy: 0.4889\n",
            "Epoch 8/15\n",
            "1162/1162 [==============================] - 32s 27ms/step - loss: 1.5315 - accuracy: 0.5334 - val_loss: 1.6973 - val_accuracy: 0.4920\n",
            "Epoch 9/15\n",
            "1162/1162 [==============================] - 32s 28ms/step - loss: 1.5020 - accuracy: 0.5404 - val_loss: 1.6883 - val_accuracy: 0.4943\n",
            "Epoch 10/15\n",
            "1162/1162 [==============================] - 32s 28ms/step - loss: 1.4772 - accuracy: 0.5478 - val_loss: 1.6829 - val_accuracy: 0.4991\n",
            "Epoch 11/15\n",
            "1162/1162 [==============================] - 32s 28ms/step - loss: 1.4500 - accuracy: 0.5526 - val_loss: 1.6701 - val_accuracy: 0.5016\n",
            "Epoch 12/15\n",
            "1162/1162 [==============================] - 32s 28ms/step - loss: 1.4257 - accuracy: 0.5624 - val_loss: 1.6696 - val_accuracy: 0.5033\n",
            "Epoch 13/15\n",
            "1162/1162 [==============================] - 32s 28ms/step - loss: 1.4118 - accuracy: 0.5656 - val_loss: 1.6761 - val_accuracy: 0.5035\n",
            "Epoch 14/15\n",
            "1162/1162 [==============================] - 32s 28ms/step - loss: 1.3930 - accuracy: 0.5709 - val_loss: 1.6675 - val_accuracy: 0.5065\n",
            "Epoch 15/15\n",
            "1162/1162 [==============================] - 32s 28ms/step - loss: 1.3755 - accuracy: 0.5736 - val_loss: 1.6692 - val_accuracy: 0.5071\n"
          ],
          "name": "stdout"
        },
        {
          "output_type": "display_data",
          "data": {
            "image/png": "[encoded data removed]",
            "text/plain": [
              "<Figure size 432x288 with 1 Axes>"
            ]
          },
          "metadata": {
            "tags": [],
            "needs_background": "light"
          }
        },
        {
          "output_type": "stream",
          "text": [
            "training time: 490.69s\n"
          ],
          "name": "stdout"
        }
      ]
    },
    {
      "cell_type": "code",
      "metadata": {
        "colab": {
          "base_uri": "https://localhost:8080/"
        },
        "id": "1_ijxYgmcKel",
        "outputId": "7a108fad-efe1-4e21-cace-9d189e1f05a9"
      },
      "source": [
        "pred = text_generator.generate_text(n_pred = 300, temperature=0.2)"
      ],
      "execution_count": null,
      "outputs": [
        {
          "output_type": "stream",
          "text": [
            "seed:\n",
            "ispering tale in a fair lady's ear,\n",
            "such as would please: 'tis gone, 'tis gone, 'tis gone:\n",
            "you are w\n",
            "\n",
            "Generated Text:\n",
            "ords in the country's death with him,\n",
            "and the strength of the blood of his consent\n",
            "the bloody soul with a seeming of the counsel,\n",
            "the strenger of my soul in a man and heart\n",
            "to see the common to the capitol'd the counter\n",
            "than the strength of mine one to me to thee.\n",
            "\n",
            "camillo:\n",
            "i have been beholding hea"
          ],
          "name": "stdout"
        }
      ]
    },
    {
      "cell_type": "code",
      "metadata": {
        "colab": {
          "base_uri": "https://localhost:8080/",
          "height": 846
        },
        "id": "YsyWl8t1FF7L",
        "outputId": "7e36c561-5fa3-419c-a9aa-d6527e009059"
      },
      "source": [
        "text_generator.remove_model()\r\n",
        "layer = 'LSTM'\r\n",
        "optimizer = 'rmsprop'\r\n",
        "lossfunc = 'mse'\r\n",
        "text_generator.train(layer, optimizer, lossfunc, n_units = 128, batch_size = 256, n_epochs = 15)"
      ],
      "execution_count": null,
      "outputs": [
        {
          "output_type": "stream",
          "text": [
            "Epoch 1/15\n",
            "1162/1162 [==============================] - 33s 26ms/step - loss: 0.0229 - accuracy: 0.2169 - val_loss: 0.0199 - val_accuracy: 0.3570\n",
            "Epoch 2/15\n",
            "1162/1162 [==============================] - 31s 27ms/step - loss: 0.0194 - accuracy: 0.3839 - val_loss: 0.0189 - val_accuracy: 0.3985\n",
            "Epoch 3/15\n",
            "1162/1162 [==============================] - 32s 27ms/step - loss: 0.0183 - accuracy: 0.4219 - val_loss: 0.0183 - val_accuracy: 0.4186\n",
            "Epoch 4/15\n",
            "1162/1162 [==============================] - 32s 27ms/step - loss: 0.0175 - accuracy: 0.4491 - val_loss: 0.0179 - val_accuracy: 0.4325\n",
            "Epoch 5/15\n",
            "1162/1162 [==============================] - 31s 27ms/step - loss: 0.0169 - accuracy: 0.4687 - val_loss: 0.0176 - val_accuracy: 0.4467\n",
            "Epoch 6/15\n",
            "1162/1162 [==============================] - 31s 27ms/step - loss: 0.0164 - accuracy: 0.4867 - val_loss: 0.0172 - val_accuracy: 0.4565\n",
            "Epoch 7/15\n",
            "1162/1162 [==============================] - 31s 27ms/step - loss: 0.0161 - accuracy: 0.4979 - val_loss: 0.0171 - val_accuracy: 0.4641\n",
            "Epoch 8/15\n",
            "1162/1162 [==============================] - 31s 27ms/step - loss: 0.0157 - accuracy: 0.5104 - val_loss: 0.0169 - val_accuracy: 0.4720\n",
            "Epoch 9/15\n",
            "1162/1162 [==============================] - 31s 27ms/step - loss: 0.0154 - accuracy: 0.5211 - val_loss: 0.0167 - val_accuracy: 0.4773\n",
            "Epoch 10/15\n",
            "1162/1162 [==============================] - 31s 27ms/step - loss: 0.0152 - accuracy: 0.5279 - val_loss: 0.0166 - val_accuracy: 0.4804\n",
            "Epoch 11/15\n",
            "1162/1162 [==============================] - 31s 27ms/step - loss: 0.0150 - accuracy: 0.5359 - val_loss: 0.0166 - val_accuracy: 0.4833\n",
            "Epoch 12/15\n",
            "1162/1162 [==============================] - 31s 27ms/step - loss: 0.0148 - accuracy: 0.5432 - val_loss: 0.0165 - val_accuracy: 0.4867\n",
            "Epoch 13/15\n",
            "1162/1162 [==============================] - 31s 27ms/step - loss: 0.0146 - accuracy: 0.5488 - val_loss: 0.0165 - val_accuracy: 0.4893\n",
            "Epoch 14/15\n",
            "1162/1162 [==============================] - 31s 27ms/step - loss: 0.0144 - accuracy: 0.5571 - val_loss: 0.0165 - val_accuracy: 0.4889\n",
            "Epoch 15/15\n",
            "1162/1162 [==============================] - 31s 27ms/step - loss: 0.0142 - accuracy: 0.5624 - val_loss: 0.0164 - val_accuracy: 0.4926\n"
          ],
          "name": "stdout"
        },
        {
          "output_type": "display_data",
          "data": {
            "image/png": "[encoded data removed]",
            "text/plain": [
              "<Figure size 432x288 with 1 Axes>"
            ]
          },
          "metadata": {
            "tags": [],
            "needs_background": "light"
          }
        },
        {
          "output_type": "stream",
          "text": [
            "training time: 471.88s\n"
          ],
          "name": "stdout"
        }
      ]
    },
    {
      "cell_type": "code",
      "metadata": {
        "colab": {
          "base_uri": "https://localhost:8080/"
        },
        "id": "t3ozCcycKpvJ",
        "outputId": "c5ec1d58-47c8-4ec0-f37b-6bf81f4a5dc5"
      },
      "source": [
        "pred = text_generator.generate_text(n_pred = 300, temperature=0.2)"
      ],
      "execution_count": null,
      "outputs": [
        {
          "output_type": "stream",
          "text": [
            "seed:\n",
            "mmon\n",
            "of the whole body. the belly answer'd--\n",
            "\n",
            "first citizen:\n",
            "well, sir, what answer made the belly?\n",
            "\n",
            "\n",
            "Generated Text:\n",
            "\n",
            "gloucester:\n",
            "it is the send in the companse the crown,\n",
            "and the rest the death of the beart of the comes\n",
            "and the lord and the are and to the harpers.\n",
            "\n",
            "buckingham:\n",
            "if thou shalt he that the hard and the man and the\n",
            "world should be so to the traitor of the part of here.\n",
            "\n",
            "king richard iii:\n",
            "what shall be"
          ],
          "name": "stdout"
        }
      ]
    },
    {
      "cell_type": "code",
      "metadata": {
        "colab": {
          "base_uri": "https://localhost:8080/",
          "height": 846
        },
        "id": "OuTUxpMyMlwV",
        "outputId": "f2c06413-36da-4ef8-afbb-4d989f3658d2"
      },
      "source": [
        "text_generator.remove_model()\r\n",
        "layer = 'LSTM'\r\n",
        "optimizer = 'Adam'\r\n",
        "lossfunc = 'categorical_crossentropy'\r\n",
        "text_generator.train(layer, optimizer, lossfunc, n_units = 128, batch_size = 256, n_epochs = 15)"
      ],
      "execution_count": null,
      "outputs": [
        {
          "output_type": "stream",
          "text": [
            "Epoch 1/15\n",
            "1162/1162 [==============================] - 35s 28ms/step - loss: 2.7831 - accuracy: 0.2282 - val_loss: 2.1138 - val_accuracy: 0.3772\n",
            "Epoch 2/15\n",
            "1162/1162 [==============================] - 32s 27ms/step - loss: 2.0428 - accuracy: 0.3999 - val_loss: 1.9324 - val_accuracy: 0.4162\n",
            "Epoch 3/15\n",
            "1162/1162 [==============================] - 31s 27ms/step - loss: 1.8593 - accuracy: 0.4467 - val_loss: 1.8459 - val_accuracy: 0.4415\n",
            "Epoch 4/15\n",
            "1162/1162 [==============================] - 32s 27ms/step - loss: 1.7442 - accuracy: 0.4768 - val_loss: 1.7844 - val_accuracy: 0.4632\n",
            "Epoch 5/15\n",
            "1162/1162 [==============================] - 32s 27ms/step - loss: 1.6628 - accuracy: 0.4989 - val_loss: 1.7480 - val_accuracy: 0.4711\n",
            "Epoch 6/15\n",
            "1162/1162 [==============================] - 32s 27ms/step - loss: 1.6086 - accuracy: 0.5133 - val_loss: 1.7207 - val_accuracy: 0.4843\n",
            "Epoch 7/15\n",
            "1162/1162 [==============================] - 32s 27ms/step - loss: 1.5584 - accuracy: 0.5266 - val_loss: 1.6964 - val_accuracy: 0.4906\n",
            "Epoch 8/15\n",
            "1162/1162 [==============================] - 32s 27ms/step - loss: 1.5264 - accuracy: 0.5344 - val_loss: 1.6865 - val_accuracy: 0.4927\n",
            "Epoch 9/15\n",
            "1162/1162 [==============================] - 32s 27ms/step - loss: 1.4872 - accuracy: 0.5444 - val_loss: 1.6792 - val_accuracy: 0.4973\n",
            "Epoch 10/15\n",
            "1162/1162 [==============================] - 32s 27ms/step - loss: 1.4610 - accuracy: 0.5521 - val_loss: 1.6731 - val_accuracy: 0.5007\n",
            "Epoch 11/15\n",
            "1162/1162 [==============================] - 31s 27ms/step - loss: 1.4404 - accuracy: 0.5571 - val_loss: 1.6661 - val_accuracy: 0.5042\n",
            "Epoch 12/15\n",
            "1162/1162 [==============================] - 32s 27ms/step - loss: 1.4209 - accuracy: 0.5625 - val_loss: 1.6675 - val_accuracy: 0.5072\n",
            "Epoch 13/15\n",
            "1162/1162 [==============================] - 32s 27ms/step - loss: 1.4014 - accuracy: 0.5673 - val_loss: 1.6659 - val_accuracy: 0.5074\n",
            "Epoch 14/15\n",
            "1162/1162 [==============================] - 31s 27ms/step - loss: 1.3786 - accuracy: 0.5727 - val_loss: 1.6616 - val_accuracy: 0.5102\n",
            "Epoch 15/15\n",
            "1162/1162 [==============================] - 31s 27ms/step - loss: 1.3656 - accuracy: 0.5763 - val_loss: 1.6617 - val_accuracy: 0.5125\n"
          ],
          "name": "stdout"
        },
        {
          "output_type": "display_data",
          "data": {
            "image/png": "[encoded data removed]",
            "text/plain": [
              "<Figure size 432x288 with 1 Axes>"
            ]
          },
          "metadata": {
            "tags": [],
            "needs_background": "light"
          }
        },
        {
          "output_type": "stream",
          "text": [
            "training time: 477.31s\n"
          ],
          "name": "stdout"
        }
      ]
    },
    {
      "cell_type": "code",
      "metadata": {
        "id": "YUDJ5QRWms5W",
        "colab": {
          "base_uri": "https://localhost:8080/"
        },
        "outputId": "dd38e3bd-3150-4780-8986-39cbd322cd32"
      },
      "source": [
        "pred = text_generator.generate_text(n_pred = 300, temperature=0.2)"
      ],
      "execution_count": null,
      "outputs": [
        {
          "output_type": "stream",
          "text": [
            "seed:\n",
            " were putting to my house the brand\n",
            "that should consume it, i have not the face\n",
            "to say 'beseech you,\n",
            "\n",
            "Generated Text:\n",
            " that i have speak the castle,\n",
            "that i shall stand the words and the world to the propest,\n",
            "and stay the hand the consent have sour thing that he\n",
            "had the courtess and the crown of the country's brother.\n",
            "\n",
            "king richard iii:\n",
            "what should the best than the country's from the live,\n",
            "and then the son of the w"
          ],
          "name": "stdout"
        }
      ]
    },
    {
      "cell_type": "markdown",
      "metadata": {
        "id": "B-_iDLhks0kJ"
      },
      "source": [
        "# **8**"
      ]
    },
    {
      "cell_type": "code",
      "metadata": {
        "colab": {
          "base_uri": "https://localhost:8080/",
          "height": 846
        },
        "id": "5yzWZMSBQ-Oa",
        "outputId": "935b685f-8124-4319-939d-223f22ce73de"
      },
      "source": [
        "text_generator.remove_model()\r\n",
        "layer = 'GRU'\r\n",
        "optimizer = 'adam'\r\n",
        "lossfunc = 'categorical_crossentropy'\r\n",
        "text_generator.train(layer, optimizer, lossfunc, n_units = 128, batch_size = 256, n_epochs = 15)"
      ],
      "execution_count": 5,
      "outputs": [
        {
          "output_type": "stream",
          "text": [
            "Epoch 1/15\n",
            "1162/1162 [==============================] - 36s 24ms/step - loss: 2.5653 - accuracy: 0.2787 - val_loss: 1.9971 - val_accuracy: 0.4019\n",
            "Epoch 2/15\n",
            "1162/1162 [==============================] - 27s 23ms/step - loss: 1.9286 - accuracy: 0.4254 - val_loss: 1.8466 - val_accuracy: 0.4481\n",
            "Epoch 3/15\n",
            "1162/1162 [==============================] - 27s 24ms/step - loss: 1.7669 - accuracy: 0.4731 - val_loss: 1.7822 - val_accuracy: 0.4639\n",
            "Epoch 4/15\n",
            "1162/1162 [==============================] - 27s 23ms/step - loss: 1.6797 - accuracy: 0.4947 - val_loss: 1.7408 - val_accuracy: 0.4779\n",
            "Epoch 5/15\n",
            "1162/1162 [==============================] - 27s 23ms/step - loss: 1.6216 - accuracy: 0.5090 - val_loss: 1.7145 - val_accuracy: 0.4851\n",
            "Epoch 6/15\n",
            "1162/1162 [==============================] - 27s 23ms/step - loss: 1.5741 - accuracy: 0.5226 - val_loss: 1.6987 - val_accuracy: 0.4925\n",
            "Epoch 7/15\n",
            "1162/1162 [==============================] - 27s 23ms/step - loss: 1.5375 - accuracy: 0.5316 - val_loss: 1.6811 - val_accuracy: 0.4970\n",
            "Epoch 8/15\n",
            "1162/1162 [==============================] - 27s 23ms/step - loss: 1.5055 - accuracy: 0.5408 - val_loss: 1.6676 - val_accuracy: 0.5005\n",
            "Epoch 9/15\n",
            "1162/1162 [==============================] - 27s 23ms/step - loss: 1.4900 - accuracy: 0.5452 - val_loss: 1.6665 - val_accuracy: 0.4996\n",
            "Epoch 10/15\n",
            "1162/1162 [==============================] - 27s 23ms/step - loss: 1.4607 - accuracy: 0.5543 - val_loss: 1.6594 - val_accuracy: 0.5042\n",
            "Epoch 11/15\n",
            "1162/1162 [==============================] - 27s 23ms/step - loss: 1.4476 - accuracy: 0.5561 - val_loss: 1.6552 - val_accuracy: 0.5055\n",
            "Epoch 12/15\n",
            "1162/1162 [==============================] - 27s 23ms/step - loss: 1.4283 - accuracy: 0.5620 - val_loss: 1.6533 - val_accuracy: 0.5065\n",
            "Epoch 13/15\n",
            "1162/1162 [==============================] - 27s 23ms/step - loss: 1.4111 - accuracy: 0.5674 - val_loss: 1.6451 - val_accuracy: 0.5089\n",
            "Epoch 14/15\n",
            "1162/1162 [==============================] - 27s 23ms/step - loss: 1.3969 - accuracy: 0.5698 - val_loss: 1.6507 - val_accuracy: 0.5078\n",
            "Epoch 15/15\n",
            "1162/1162 [==============================] - 27s 23ms/step - loss: 1.3878 - accuracy: 0.5720 - val_loss: 1.6532 - val_accuracy: 0.5070\n"
          ],
          "name": "stdout"
        },
        {
          "output_type": "display_data",
          "data": {
            "image/png": "[encoded data removed]",
            "text/plain": [
              "<Figure size 432x288 with 1 Axes>"
            ]
          },
          "metadata": {
            "tags": [],
            "needs_background": "light"
          }
        },
        {
          "output_type": "stream",
          "text": [
            "training time: 418.87s\n"
          ],
          "name": "stdout"
        }
      ]
    },
    {
      "cell_type": "code",
      "metadata": {
        "colab": {
          "base_uri": "https://localhost:8080/"
        },
        "id": "d-VgKvXcbCaA",
        "outputId": "375f44ab-8fa7-45a5-f6a0-9b640bee1108"
      },
      "source": [
        "pred = text_generator.generate_text(n_pred = 200, temperature=0.2)"
      ],
      "execution_count": 6,
      "outputs": [
        {
          "output_type": "stream",
          "text": [
            "seed:\n",
            "at then remains, we being thus arrived\n",
            "from ravenspurgh haven before the gates of york,\n",
            "but that we \n",
            "\n",
            "Generated Text:\n",
            "will be so properts to the world\n",
            "than the world of the perise to my father,\n",
            "that the father with the counsels of your house,\n",
            "to the man to the world be so much rest;\n",
            "and there so much rest the people,"
          ],
          "name": "stdout"
        }
      ]
    },
    {
      "cell_type": "code",
      "metadata": {
        "id": "yrkAu6aadiHe",
        "colab": {
          "base_uri": "https://localhost:8080/",
          "height": 846
        },
        "outputId": "c2431f9c-2bc6-4f9c-a5c7-1a28f0ed4ee6"
      },
      "source": [
        "text_generator.remove_model()\r\n",
        "layer = 'RNN'\r\n",
        "optimizer = 'adam'\r\n",
        "lossfunc = 'categorical_crossentropy'\r\n",
        "text_generator.train(layer, optimizer, lossfunc, n_units = 128, batch_size = 256, n_epochs = 15)"
      ],
      "execution_count": null,
      "outputs": [
        {
          "output_type": "stream",
          "text": [
            "Epoch 1/15\n",
            "1162/1162 [==============================] - 155s 131ms/step - loss: 2.6257 - accuracy: 0.2675 - val_loss: 2.1822 - val_accuracy: 0.3513\n",
            "Epoch 2/15\n",
            "1162/1162 [==============================] - 153s 132ms/step - loss: 2.1358 - accuracy: 0.3736 - val_loss: 2.0446 - val_accuracy: 0.3937\n",
            "Epoch 3/15\n",
            "1162/1162 [==============================] - 149s 128ms/step - loss: 2.0124 - accuracy: 0.4063 - val_loss: 1.9662 - val_accuracy: 0.4143\n",
            "Epoch 4/15\n",
            "1162/1162 [==============================] - 150s 129ms/step - loss: 1.9359 - accuracy: 0.4273 - val_loss: 1.9301 - val_accuracy: 0.4247\n",
            "Epoch 5/15\n",
            "1162/1162 [==============================] - 149s 128ms/step - loss: 1.8797 - accuracy: 0.4433 - val_loss: 1.8871 - val_accuracy: 0.4357\n",
            "Epoch 6/15\n",
            "1162/1162 [==============================] - 152s 131ms/step - loss: 1.8393 - accuracy: 0.4543 - val_loss: 1.8589 - val_accuracy: 0.4445\n",
            "Epoch 7/15\n",
            "1162/1162 [==============================] - 150s 129ms/step - loss: 1.7979 - accuracy: 0.4655 - val_loss: 1.8325 - val_accuracy: 0.4510\n",
            "Epoch 8/15\n",
            "1162/1162 [==============================] - 151s 130ms/step - loss: 1.7757 - accuracy: 0.4722 - val_loss: 1.8286 - val_accuracy: 0.4557\n",
            "Epoch 9/15\n",
            "1162/1162 [==============================] - 149s 129ms/step - loss: 1.7574 - accuracy: 0.4779 - val_loss: 1.8060 - val_accuracy: 0.4609\n",
            "Epoch 10/15\n",
            "1162/1162 [==============================] - 150s 129ms/step - loss: 1.7368 - accuracy: 0.4825 - val_loss: 1.8050 - val_accuracy: 0.4621\n",
            "Epoch 11/15\n",
            "1162/1162 [==============================] - 152s 131ms/step - loss: 1.7203 - accuracy: 0.4875 - val_loss: 1.7869 - val_accuracy: 0.4664\n",
            "Epoch 12/15\n",
            "1162/1162 [==============================] - 150s 129ms/step - loss: 1.7081 - accuracy: 0.4911 - val_loss: 1.7794 - val_accuracy: 0.4650\n",
            "Epoch 13/15\n",
            "1162/1162 [==============================] - 151s 130ms/step - loss: 1.6991 - accuracy: 0.4936 - val_loss: 1.7953 - val_accuracy: 0.4665\n",
            "Epoch 14/15\n",
            "1162/1162 [==============================] - 152s 131ms/step - loss: 1.6850 - accuracy: 0.4970 - val_loss: 1.8136 - val_accuracy: 0.4570\n",
            "Epoch 15/15\n",
            "1162/1162 [==============================] - 151s 130ms/step - loss: 1.6895 - accuracy: 0.4970 - val_loss: 1.7675 - val_accuracy: 0.4736\n"
          ],
          "name": "stdout"
        },
        {
          "output_type": "display_data",
          "data": {
            "image/png": "[encoded data removed]",
            "text/plain": [
              "<Figure size 432x288 with 1 Axes>"
            ]
          },
          "metadata": {
            "tags": [],
            "needs_background": "light"
          }
        },
        {
          "output_type": "stream",
          "text": [
            "training time: 2270.83s\n"
          ],
          "name": "stdout"
        }
      ]
    },
    {
      "cell_type": "code",
      "metadata": {
        "colab": {
          "base_uri": "https://localhost:8080/"
        },
        "id": "XMR_mQBO6IIL",
        "outputId": "e7391c90-b03d-4d94-a281-bc3c67db14a9"
      },
      "source": [
        "pred = text_generator.generate_text(n_pred = 200, temperature=0.2)"
      ],
      "execution_count": null,
      "outputs": [
        {
          "output_type": "stream",
          "text": [
            "seed:\n",
            "urderer:\n",
            "what shall we do?\n",
            "\n",
            "clarence:\n",
            "relent, and save your souls.\n",
            "\n",
            "first murderer:\n",
            "relent! 'tis cow\n",
            "\n",
            "Generated Text:\n",
            "ill to the bear the heart the heart,\n",
            "and the world the hath the brother that we will the words\n",
            "the coust in my hand the warwick the hand the some of his arment.\n",
            "\n",
            "gloucester:\n",
            "what in the stard the stan"
          ],
          "name": "stdout"
        }
      ]
    },
    {
      "cell_type": "code",
      "metadata": {
        "colab": {
          "base_uri": "https://localhost:8080/",
          "height": 846
        },
        "id": "GajUrO3ss8i5",
        "outputId": "e8c51736-25f2-47da-e7e4-b0298850880f"
      },
      "source": [
        "text_generator.remove_model()\r\n",
        "layer = 'GRU'\r\n",
        "optimizer = 'rmsprop'\r\n",
        "lossfunc = 'categorical_crossentropy'\r\n",
        "text_generator.train(layer, optimizer, lossfunc, n_units = 128, batch_size = 256, n_epochs = 15)"
      ],
      "execution_count": 7,
      "outputs": [
        {
          "output_type": "stream",
          "text": [
            "Epoch 1/15\n",
            "1162/1162 [==============================] - 30s 24ms/step - loss: 2.5510 - accuracy: 0.2825 - val_loss: 2.0475 - val_accuracy: 0.3900\n",
            "Epoch 2/15\n",
            "1162/1162 [==============================] - 27s 23ms/step - loss: 1.9865 - accuracy: 0.4098 - val_loss: 1.8912 - val_accuracy: 0.4281\n",
            "Epoch 3/15\n",
            "1162/1162 [==============================] - 27s 23ms/step - loss: 1.8158 - accuracy: 0.4581 - val_loss: 1.8058 - val_accuracy: 0.4571\n",
            "Epoch 4/15\n",
            "1162/1162 [==============================] - 27s 23ms/step - loss: 1.7199 - accuracy: 0.4821 - val_loss: 1.7664 - val_accuracy: 0.4674\n",
            "Epoch 5/15\n",
            "1162/1162 [==============================] - 27s 23ms/step - loss: 1.6517 - accuracy: 0.5027 - val_loss: 1.7280 - val_accuracy: 0.4788\n",
            "Epoch 6/15\n",
            "1162/1162 [==============================] - 27s 23ms/step - loss: 1.6011 - accuracy: 0.5153 - val_loss: 1.6977 - val_accuracy: 0.4871\n",
            "Epoch 7/15\n",
            "1162/1162 [==============================] - 27s 23ms/step - loss: 1.5645 - accuracy: 0.5256 - val_loss: 1.6872 - val_accuracy: 0.4899\n",
            "Epoch 8/15\n",
            "1162/1162 [==============================] - 27s 23ms/step - loss: 1.5358 - accuracy: 0.5333 - val_loss: 1.6725 - val_accuracy: 0.4954\n",
            "Epoch 9/15\n",
            "1162/1162 [==============================] - 27s 23ms/step - loss: 1.5147 - accuracy: 0.5397 - val_loss: 1.6597 - val_accuracy: 0.5004\n",
            "Epoch 10/15\n",
            "1162/1162 [==============================] - 27s 23ms/step - loss: 1.4846 - accuracy: 0.5470 - val_loss: 1.6565 - val_accuracy: 0.5007\n",
            "Epoch 11/15\n",
            "1162/1162 [==============================] - 27s 23ms/step - loss: 1.4704 - accuracy: 0.5510 - val_loss: 1.6536 - val_accuracy: 0.5067\n",
            "Epoch 12/15\n",
            "1162/1162 [==============================] - 27s 23ms/step - loss: 1.4443 - accuracy: 0.5587 - val_loss: 1.6506 - val_accuracy: 0.5054\n",
            "Epoch 13/15\n",
            "1162/1162 [==============================] - 27s 23ms/step - loss: 1.4330 - accuracy: 0.5619 - val_loss: 1.6422 - val_accuracy: 0.5075\n",
            "Epoch 14/15\n",
            "1162/1162 [==============================] - 27s 23ms/step - loss: 1.4165 - accuracy: 0.5659 - val_loss: 1.6400 - val_accuracy: 0.5058\n",
            "Epoch 15/15\n",
            "1162/1162 [==============================] - 27s 23ms/step - loss: 1.4053 - accuracy: 0.5686 - val_loss: 1.6455 - val_accuracy: 0.5089\n"
          ],
          "name": "stdout"
        },
        {
          "output_type": "display_data",
          "data": {
            "image/png": "[encoded data removed]",
            "text/plain": [
              "<Figure size 432x288 with 1 Axes>"
            ]
          },
          "metadata": {
            "tags": [],
            "needs_background": "light"
          }
        },
        {
          "output_type": "stream",
          "text": [
            "training time: 406.88s\n"
          ],
          "name": "stdout"
        }
      ]
    },
    {
      "cell_type": "code",
      "metadata": {
        "colab": {
          "base_uri": "https://localhost:8080/"
        },
        "id": "W_4WTkE-2iWT",
        "outputId": "b68bc1ea-a198-46ba-9c66-2226b8d00d86"
      },
      "source": [
        "pred = text_generator.generate_text(n_pred = 200, temperature=0.2)"
      ],
      "execution_count": 19,
      "outputs": [
        {
          "output_type": "stream",
          "text": [
            "seed:\n",
            "oucester:\n",
            "what, will the aspiring blood of lancaster\n",
            "sink in the ground? i thought it would have mou\n",
            "\n",
            "Generated Text:\n",
            "th,\n",
            "and let me so should be the sent the better to makes\n",
            "the looks the more to see him to be so me to good\n",
            "when i have seed the state the earth, and i will be gone.\n",
            "\n",
            "king richard iii:\n",
            "a man and my lor"
          ],
          "name": "stdout"
        }
      ]
    },
    {
      "cell_type": "markdown",
      "metadata": {
        "id": "9kTZCmAoE83K"
      },
      "source": [
        "# ***9***\r\n"
      ]
    },
    {
      "cell_type": "code",
      "metadata": {
        "id": "kW_rGxXBC5hC"
      },
      "source": [
        "text_generator = TextGenerator(text, seq_length=80, shifting=2)"
      ],
      "execution_count": null,
      "outputs": []
    },
    {
      "cell_type": "code",
      "metadata": {
        "colab": {
          "base_uri": "https://localhost:8080/",
          "height": 1000
        },
        "id": "2ok_itNzFHIh",
        "outputId": "6a4aa4da-b194-48a1-a7d5-6029c8d4f4fe"
      },
      "source": [
        "layer = 'LSTM'\r\n",
        "optimizer = 'adam'\r\n",
        "lossfunc = 'categorical_crossentropy'\r\n",
        "text_generator.train(layer, optimizer, lossfunc, n_units = 256, batch_size = 256, n_epochs = 50)"
      ],
      "execution_count": null,
      "outputs": [
        {
          "output_type": "stream",
          "text": [
            "Epoch 1/50\n",
            "1743/1743 [==============================] - 90s 51ms/step - loss: 2.5442 - accuracy: 0.2801 - val_loss: 1.8668 - val_accuracy: 0.4361\n",
            "Epoch 2/50\n",
            "1743/1743 [==============================] - 87s 50ms/step - loss: 1.7320 - accuracy: 0.4793 - val_loss: 1.7090 - val_accuracy: 0.4865\n",
            "Epoch 3/50\n",
            "1743/1743 [==============================] - 87s 50ms/step - loss: 1.5484 - accuracy: 0.5270 - val_loss: 1.6430 - val_accuracy: 0.5039\n",
            "Epoch 4/50\n",
            "1743/1743 [==============================] - 87s 50ms/step - loss: 1.4512 - accuracy: 0.5537 - val_loss: 1.6110 - val_accuracy: 0.5154\n",
            "Epoch 5/50\n",
            "1743/1743 [==============================] - 87s 50ms/step - loss: 1.3816 - accuracy: 0.5713 - val_loss: 1.5913 - val_accuracy: 0.5236\n",
            "Epoch 6/50\n",
            "1743/1743 [==============================] - 87s 50ms/step - loss: 1.3315 - accuracy: 0.5854 - val_loss: 1.5939 - val_accuracy: 0.5264\n",
            "Epoch 7/50\n",
            "1743/1743 [==============================] - 87s 50ms/step - loss: 1.2857 - accuracy: 0.5971 - val_loss: 1.5788 - val_accuracy: 0.5292\n",
            "Epoch 8/50\n",
            "1743/1743 [==============================] - 87s 50ms/step - loss: 1.2448 - accuracy: 0.6077 - val_loss: 1.5941 - val_accuracy: 0.5298\n",
            "Epoch 9/50\n",
            "1743/1743 [==============================] - 87s 50ms/step - loss: 1.2138 - accuracy: 0.6165 - val_loss: 1.6019 - val_accuracy: 0.5309\n",
            "Epoch 10/50\n",
            "1743/1743 [==============================] - 87s 50ms/step - loss: 1.1718 - accuracy: 0.6284 - val_loss: 1.6179 - val_accuracy: 0.5289\n",
            "Epoch 11/50\n",
            "1743/1743 [==============================] - 87s 50ms/step - loss: 1.1405 - accuracy: 0.6368 - val_loss: 1.6421 - val_accuracy: 0.5280\n",
            "Epoch 12/50\n",
            "1743/1743 [==============================] - 87s 50ms/step - loss: 1.1112 - accuracy: 0.6465 - val_loss: 1.6609 - val_accuracy: 0.5255\n",
            "Epoch 13/50\n",
            "1743/1743 [==============================] - 87s 50ms/step - loss: 1.0739 - accuracy: 0.6555 - val_loss: 1.6821 - val_accuracy: 0.5251\n",
            "Epoch 14/50\n",
            "1743/1743 [==============================] - 87s 50ms/step - loss: 1.0473 - accuracy: 0.6638 - val_loss: 1.7105 - val_accuracy: 0.5233\n",
            "Epoch 15/50\n",
            "1743/1743 [==============================] - 87s 50ms/step - loss: 1.0221 - accuracy: 0.6716 - val_loss: 1.7347 - val_accuracy: 0.5220\n",
            "Epoch 16/50\n",
            "1743/1743 [==============================] - 87s 50ms/step - loss: 0.9997 - accuracy: 0.6779 - val_loss: 1.7530 - val_accuracy: 0.5207\n",
            "Epoch 17/50\n",
            "1743/1743 [==============================] - 87s 50ms/step - loss: 0.9731 - accuracy: 0.6862 - val_loss: 1.7873 - val_accuracy: 0.5174\n",
            "Epoch 18/50\n",
            "1743/1743 [==============================] - 87s 50ms/step - loss: 0.9509 - accuracy: 0.6926 - val_loss: 1.8093 - val_accuracy: 0.5161\n",
            "Epoch 19/50\n",
            "1743/1743 [==============================] - 87s 50ms/step - loss: 0.9270 - accuracy: 0.7002 - val_loss: 1.8506 - val_accuracy: 0.5139\n",
            "Epoch 20/50\n",
            "1743/1743 [==============================] - 87s 50ms/step - loss: 0.9079 - accuracy: 0.7058 - val_loss: 1.8677 - val_accuracy: 0.5109\n",
            "Epoch 21/50\n",
            "1743/1743 [==============================] - 87s 50ms/step - loss: 0.8943 - accuracy: 0.7093 - val_loss: 1.8782 - val_accuracy: 0.5116\n",
            "Epoch 22/50\n",
            "1743/1743 [==============================] - 87s 50ms/step - loss: 0.8724 - accuracy: 0.7170 - val_loss: 1.9123 - val_accuracy: 0.5086\n",
            "Epoch 23/50\n",
            "1743/1743 [==============================] - 87s 50ms/step - loss: 0.8601 - accuracy: 0.7198 - val_loss: 1.9402 - val_accuracy: 0.5076\n",
            "Epoch 24/50\n",
            "1743/1743 [==============================] - 87s 50ms/step - loss: 0.8483 - accuracy: 0.7232 - val_loss: 1.9534 - val_accuracy: 0.5071\n",
            "Epoch 25/50\n",
            "1743/1743 [==============================] - 87s 50ms/step - loss: 0.8311 - accuracy: 0.7281 - val_loss: 1.9774 - val_accuracy: 0.5067\n",
            "Epoch 26/50\n",
            "1743/1743 [==============================] - 87s 50ms/step - loss: 0.8236 - accuracy: 0.7307 - val_loss: 2.0002 - val_accuracy: 0.5039\n",
            "Epoch 27/50\n",
            "1743/1743 [==============================] - 87s 50ms/step - loss: 0.8138 - accuracy: 0.7344 - val_loss: 2.0226 - val_accuracy: 0.5043\n",
            "Epoch 28/50\n",
            "1743/1743 [==============================] - 87s 50ms/step - loss: 0.8007 - accuracy: 0.7379 - val_loss: 2.0396 - val_accuracy: 0.5055\n",
            "Epoch 29/50\n",
            "1743/1743 [==============================] - 87s 50ms/step - loss: 0.7935 - accuracy: 0.7394 - val_loss: 2.0624 - val_accuracy: 0.5042\n",
            "Epoch 30/50\n",
            "1743/1743 [==============================] - 87s 50ms/step - loss: 0.7828 - accuracy: 0.7429 - val_loss: 2.0682 - val_accuracy: 0.5051\n",
            "Epoch 31/50\n",
            "1743/1743 [==============================] - 87s 50ms/step - loss: 0.7720 - accuracy: 0.7470 - val_loss: 2.1053 - val_accuracy: 0.5023\n",
            "Epoch 32/50\n",
            "1743/1743 [==============================] - 87s 50ms/step - loss: 0.7701 - accuracy: 0.7465 - val_loss: 2.1126 - val_accuracy: 0.5039\n",
            "Epoch 33/50\n",
            "1743/1743 [==============================] - 87s 50ms/step - loss: 0.7636 - accuracy: 0.7491 - val_loss: 2.1362 - val_accuracy: 0.5009\n",
            "Epoch 34/50\n",
            "1743/1743 [==============================] - 87s 50ms/step - loss: 0.7542 - accuracy: 0.7523 - val_loss: 2.1369 - val_accuracy: 0.4990\n",
            "Epoch 35/50\n",
            "1743/1743 [==============================] - 87s 50ms/step - loss: 0.7461 - accuracy: 0.7543 - val_loss: 2.1482 - val_accuracy: 0.5015\n",
            "Epoch 36/50\n",
            "1743/1743 [==============================] - 87s 50ms/step - loss: 0.7412 - accuracy: 0.7550 - val_loss: 2.1600 - val_accuracy: 0.5001\n",
            "Epoch 37/50\n",
            "1743/1743 [==============================] - 87s 50ms/step - loss: 0.7365 - accuracy: 0.7571 - val_loss: 2.1714 - val_accuracy: 0.5005\n",
            "Epoch 38/50\n",
            "1743/1743 [==============================] - 87s 50ms/step - loss: 0.7318 - accuracy: 0.7582 - val_loss: 2.1918 - val_accuracy: 0.4995\n",
            "Epoch 39/50\n",
            "1743/1743 [==============================] - 87s 50ms/step - loss: 0.7242 - accuracy: 0.7612 - val_loss: 2.1975 - val_accuracy: 0.4999\n",
            "Epoch 40/50\n",
            "1743/1743 [==============================] - 86s 50ms/step - loss: 0.7217 - accuracy: 0.7617 - val_loss: 2.2077 - val_accuracy: 0.5005\n",
            "Epoch 41/50\n",
            "1743/1743 [==============================] - 86s 50ms/step - loss: 0.7185 - accuracy: 0.7624 - val_loss: 2.2254 - val_accuracy: 0.5011\n",
            "Epoch 42/50\n",
            "1743/1743 [==============================] - 87s 50ms/step - loss: 0.7106 - accuracy: 0.7647 - val_loss: 2.2407 - val_accuracy: 0.5007\n",
            "Epoch 43/50\n",
            "1743/1743 [==============================] - 87s 50ms/step - loss: 0.7042 - accuracy: 0.7677 - val_loss: 2.2422 - val_accuracy: 0.4969\n",
            "Epoch 44/50\n",
            "1743/1743 [==============================] - 87s 50ms/step - loss: 0.6993 - accuracy: 0.7684 - val_loss: 2.2600 - val_accuracy: 0.4997\n",
            "Epoch 45/50\n",
            "1743/1743 [==============================] - 87s 50ms/step - loss: 0.7018 - accuracy: 0.7668 - val_loss: 2.2751 - val_accuracy: 0.4963\n",
            "Epoch 46/50\n",
            "1743/1743 [==============================] - 87s 50ms/step - loss: 0.6923 - accuracy: 0.7703 - val_loss: 2.2756 - val_accuracy: 0.4966\n",
            "Epoch 47/50\n",
            "1743/1743 [==============================] - 86s 50ms/step - loss: 0.6910 - accuracy: 0.7703 - val_loss: 2.2841 - val_accuracy: 0.4955\n",
            "Epoch 48/50\n",
            "1743/1743 [==============================] - 87s 50ms/step - loss: 0.6845 - accuracy: 0.7725 - val_loss: 2.2928 - val_accuracy: 0.4952\n",
            "Epoch 49/50\n",
            "1743/1743 [==============================] - 87s 50ms/step - loss: 0.6808 - accuracy: 0.7737 - val_loss: 2.2970 - val_accuracy: 0.4967\n",
            "Epoch 50/50\n",
            "1743/1743 [==============================] - 87s 50ms/step - loss: 0.6771 - accuracy: 0.7753 - val_loss: 2.3033 - val_accuracy: 0.4956\n"
          ],
          "name": "stdout"
        },
        {
          "output_type": "display_data",
          "data": {
            "image/png": "[encoded data removed]",
            "text/plain": [
              "<Figure size 432x288 with 1 Axes>"
            ]
          },
          "metadata": {
            "tags": [],
            "needs_background": "light"
          }
        },
        {
          "output_type": "stream",
          "text": [
            "training time: 4339.36s\n"
          ],
          "name": "stdout"
        }
      ]
    },
    {
      "cell_type": "code",
      "metadata": {
        "colab": {
          "base_uri": "https://localhost:8080/"
        },
        "id": "NyiaGLZzFVvS",
        "outputId": "c8002add-6438-4bcd-daa4-980f18e9f8c9"
      },
      "source": [
        "pred = text_generator.generate_text(n_pred = 300, temperature=0.2)"
      ],
      "execution_count": null,
      "outputs": [
        {
          "output_type": "stream",
          "text": [
            "seed:\n",
            "from out my heart;\n",
            "with mine own tears i wash away my balm,\n",
            "with mine own hands \n",
            "\n",
            "Generated Text:\n",
            "and prayers and was said 'bring,\n",
            "but whom my honour with my dispresent\n",
            "that i would fall one honour on his head;\n",
            "and when i have, bid my brother here,\n",
            "that thou shalt do it the heavenles trives and dangs;\n",
            "and with thy father, though it not on him.\n",
            "\n",
            "duke of aumerle:\n",
            "stay, but yet shall be so much don"
          ],
          "name": "stdout"
        }
      ]
    },
    {
      "cell_type": "code",
      "metadata": {
        "id": "jyVJ4fG6LSnb"
      },
      "source": [
        ""
      ],
      "execution_count": null,
      "outputs": []
    }
  ]
}
